{
 "cells": [
  {
   "cell_type": "code",
   "execution_count": 1,
   "metadata": {},
   "outputs": [
    {
     "name": "stderr",
     "output_type": "stream",
     "text": [
      "/work/dpandya/miniconda3/envs/_whisperx_/lib/python3.10/site-packages/tqdm/auto.py:21: TqdmWarning: IProgress not found. Please update jupyter and ipywidgets. See https://ipywidgets.readthedocs.io/en/stable/user_install.html\n",
      "  from .autonotebook import tqdm as notebook_tqdm\n",
      "/work/dpandya/miniconda3/envs/_whisperx_/lib/python3.10/site-packages/pyannote/audio/core/io.py:43: UserWarning: torchaudio._backend.set_audio_backend has been deprecated. With dispatcher enabled, this function is no-op. You can remove the function call.\n",
      "  torchaudio.set_audio_backend(\"soundfile\")\n"
     ]
    }
   ],
   "source": [
    "import numpy as np\n",
    "import pandas as pd\n",
    "import librosa\n",
    "import whisperx\n",
    "import torch\n",
    "import torchaudio\n",
    "import torchaudio.functional as F\n",
    "from sklearn.model_selection import train_test_split\n",
    "import os\n",
    "from scipy.signal import fftconvolve\n",
    "import random\n",
    "import h5py\n",
    "\n",
    "SAMPLE_RATE = 16000"
   ]
  },
  {
   "cell_type": "code",
   "execution_count": 2,
   "metadata": {},
   "outputs": [
    {
     "name": "stderr",
     "output_type": "stream",
     "text": [
      "Lightning automatically upgraded your loaded checkpoint from v1.5.4 to v2.4.0. To apply the upgrade to your files permanently, run `python -m pytorch_lightning.utilities.upgrade_checkpoint ../../../../home/dpandya/.cache/torch/whisperx-vad-segmentation.bin`\n"
     ]
    },
    {
     "name": "stdout",
     "output_type": "stream",
     "text": [
      "Model was trained with pyannote.audio 0.0.1, yours is 3.1.1. Bad things might happen unless you revert pyannote.audio to 0.x.\n",
      "Model was trained with torch 1.10.0+cu102, yours is 2.4.1+cu121. Bad things might happen unless you revert torch to 1.x.\n"
     ]
    }
   ],
   "source": [
    "device = \"cuda\"\n",
    "compute_type = \"float16\"\n",
    "\n",
    "model = whisperx.load_model(\"medium\", download_root=\"models/\", device=device, compute_type=compute_type, language='de')"
   ]
  },
  {
   "cell_type": "code",
   "execution_count": 3,
   "metadata": {},
   "outputs": [],
   "source": [
    "def peak_normalize(audio, target=1.0):\n",
    "    return audio * (target / np.max(np.abs(audio)))"
   ]
  },
  {
   "cell_type": "code",
   "execution_count": 3,
   "metadata": {},
   "outputs": [],
   "source": [
    "def add_echo(aud_fname, rir_fname):\n",
    "    audio, sr = librosa.load(aud_fname, sr=SAMPLE_RATE)\n",
    "    rir, sr = librosa.load(rir_fname, sr=SAMPLE_RATE)\n",
    "\n",
    "    augmented = fftconvolve(audio, rir)\n",
    "    #return peak_normalize(augmented)\n",
    "    return augmented"
   ]
  },
  {
   "cell_type": "code",
   "execution_count": 4,
   "metadata": {},
   "outputs": [],
   "source": [
    "libri_dir = '../../LibriVox_Kaggle'\n",
    "rir_dir = '../audioData/Office_RIR'\n",
    "rir_list = os.listdir(rir_dir)\n",
    "\n",
    "df = pd.read_csv('LibriVox_Kaggle_org.csv')"
   ]
  },
  {
   "cell_type": "code",
   "execution_count": 5,
   "metadata": {},
   "outputs": [],
   "source": [
    "train, test = train_test_split(df, random_state=42)"
   ]
  },
  {
   "cell_type": "code",
   "execution_count": 6,
   "metadata": {},
   "outputs": [],
   "source": [
    "rir_df = pd.read_csv('whisperx_large_v2/LibriVox_Kaggle_officeRIR_whisperx.csv')\n",
    "rir_ = rir_df['rir_file']"
   ]
  },
  {
   "cell_type": "code",
   "execution_count": 7,
   "metadata": {},
   "outputs": [],
   "source": [
    "c = 0\n",
    "with h5py.File('augmented_arrays.h5', 'w') as f:\n",
    "    for i, row in test.iterrows():\n",
    "        aud_file = os.path.join(libri_dir, row['file'])\n",
    "        rir_file = rir_[c]\n",
    "        c+=1\n",
    "        augmented = add_echo(aud_fname=aud_file, rir_fname=rir_file)\n",
    "\n",
    "        # Create a group for the aud_file\n",
    "        aud_group = f.create_group(aud_file)\n",
    "\n",
    "        # Create a dataset for the augmented numpy array\n",
    "        aud_group.create_dataset('augmented', data=augmented)"
   ]
  },
  {
   "cell_type": "code",
   "execution_count": 28,
   "metadata": {},
   "outputs": [],
   "source": [
    "output_ = []\n",
    "\n",
    "for i,row in test.iterrows():\n",
    "    fname = os.path.join(libri_dir, row['file'])\n",
    "    aud = whisperx.load_audio(fname)\n",
    "    results = model.transcribe(aud, language='de')\n",
    "    for segment in results['segments']:\n",
    "        output_.append(segment['text'])"
   ]
  },
  {
   "cell_type": "code",
   "execution_count": 12,
   "metadata": {},
   "outputs": [],
   "source": [
    "output = []\n",
    "\n",
    "with h5py.File('augmented_arrays.h5', 'r') as f:\n",
    "    for i, row in test.iterrows():\n",
    "        fname = os.path.join(libri_dir, row['file'])\n",
    "        if fname in f:\n",
    "            augmented = f[fname]['augmented'][:]\n",
    "            results = model.transcribe(augmented, language='de')\n",
    "            for segment in results['segments']:\n",
    "                output.append(segment['text'])\n"
   ]
  },
  {
   "cell_type": "code",
   "execution_count": 15,
   "metadata": {},
   "outputs": [],
   "source": [
    "import unicodedata\n",
    "import re\n",
    "\n",
    "def normalize_string(s):\n",
    "    # Convert to lower case\n",
    "    s = s.lower()\n",
    "    \n",
    "    # Remove punctuation\n",
    "    s = re.sub(r'[^\\w\\s]', '', s)\n",
    "    \n",
    "    # Additional replacements\n",
    "    s = s.replace('ß', 'ss')\n",
    "    s = s.replace('ö', 'oe')\n",
    "    s = s.replace('ä', 'ae')\n",
    "    s = s.replace('ü', 'ue')\n",
    "    \n",
    "    # Convert umlauts and special characters to normal English characters\n",
    "    s = unicodedata.normalize('NFD', s).encode('ascii', 'ignore').decode('utf-8')\n",
    "    \n",
    "    return s"
   ]
  },
  {
   "cell_type": "code",
   "execution_count": 30,
   "metadata": {},
   "outputs": [
    {
     "data": {
      "text/plain": [
       "Index(['file', 'orgText', 'rir_medium_whisperxOut', 'medium_whisperxOut_wer'], dtype='object')"
      ]
     },
     "execution_count": 30,
     "metadata": {},
     "output_type": "execute_result"
    }
   ],
   "source": [
    "test.columns"
   ]
  },
  {
   "cell_type": "code",
   "execution_count": 34,
   "metadata": {},
   "outputs": [],
   "source": [
    "import jiwer\n",
    "\n",
    "#output\n",
    "test['medium_whisperxOut'] = output_"
   ]
  },
  {
   "cell_type": "code",
   "execution_count": 35,
   "metadata": {},
   "outputs": [],
   "source": [
    "#test['medium_WER'] = jiwer.wer(test['orgText'].tolist(), test['medium_whisperxOut'].tolist())\n",
    "\n",
    "test['medium_whisperxOut'] = test['medium_whisperxOut'].apply(lambda x: normalize_string(x))\n",
    "#test['orgText'] = test['orgText'].apply(lambda x: normalize_string(x))\n",
    "\n",
    "test['medium_whisperxOut_wer'] = test.apply(lambda x: jiwer.wer(x['orgText'], x['medium_whisperxOut']), axis=1)"
   ]
  },
  {
   "cell_type": "code",
   "execution_count": 19,
   "metadata": {},
   "outputs": [],
   "source": [
    "test=test.drop(columns=['WER'])"
   ]
  },
  {
   "cell_type": "code",
   "execution_count": 36,
   "metadata": {},
   "outputs": [
    {
     "data": {
      "text/plain": [
       "0.07989959618800023"
      ]
     },
     "execution_count": 36,
     "metadata": {},
     "output_type": "execute_result"
    }
   ],
   "source": [
    "test['medium_whisperxOut_wer'].mean()"
   ]
  },
  {
   "cell_type": "code",
   "execution_count": 38,
   "metadata": {},
   "outputs": [],
   "source": [
    "test = test[['file', 'orgText', 'medium_whisperxOut', 'rir_medium_whisperxOut', 'medium_whisperxOut_wer', 'rir_medium_whisperxOut_wer']]"
   ]
  },
  {
   "cell_type": "code",
   "execution_count": 32,
   "metadata": {},
   "outputs": [],
   "source": [
    "# Rename columns\n",
    "test.rename(columns={'medium_whisperxOut': 'rir_medium_whisperxOut', \n",
    "                     'medium_whisperxOut_wer': 'rir_medium_whisperxOut_wer'}, inplace=True)"
   ]
  },
  {
   "cell_type": "code",
   "execution_count": 39,
   "metadata": {},
   "outputs": [],
   "source": [
    "test.to_csv('whisperx_medium/LibriVox_Kaggle_officeRIR_medium_whisperx.csv', index=False)"
   ]
  },
  {
   "cell_type": "code",
   "execution_count": 26,
   "metadata": {},
   "outputs": [],
   "source": [
    "test.drop(columns=['whisperxOut'], inplace=True)"
   ]
  },
  {
   "cell_type": "code",
   "execution_count": 27,
   "metadata": {},
   "outputs": [
    {
     "data": {
      "text/html": [
       "<div>\n",
       "<style scoped>\n",
       "    .dataframe tbody tr th:only-of-type {\n",
       "        vertical-align: middle;\n",
       "    }\n",
       "\n",
       "    .dataframe tbody tr th {\n",
       "        vertical-align: top;\n",
       "    }\n",
       "\n",
       "    .dataframe thead th {\n",
       "        text-align: right;\n",
       "    }\n",
       "</style>\n",
       "<table border=\"1\" class=\"dataframe\">\n",
       "  <thead>\n",
       "    <tr style=\"text-align: right;\">\n",
       "      <th></th>\n",
       "      <th>file</th>\n",
       "      <th>orgText</th>\n",
       "      <th>rir_medium_whisperxOut</th>\n",
       "      <th>medium_whisperxOut_wer</th>\n",
       "    </tr>\n",
       "  </thead>\n",
       "  <tbody>\n",
       "    <tr>\n",
       "      <th>625</th>\n",
       "      <td>achtgesichterambiwasse/achtgesichterambiwasse_...</td>\n",
       "      <td>koennt ihr durch einen zufall drueben in karas...</td>\n",
       "      <td>koennt ihr durch einen zufall drueben in kara...</td>\n",
       "      <td>0.000000</td>\n",
       "    </tr>\n",
       "    <tr>\n",
       "      <th>2796</th>\n",
       "      <td>meisterfloh/meisterfloh_0169.wav</td>\n",
       "      <td>peregrinus wollte von der wirklichen welt nich...</td>\n",
       "      <td>peragrinus wollte von der wirklichen welt nic...</td>\n",
       "      <td>0.100000</td>\n",
       "    </tr>\n",
       "    <tr>\n",
       "      <th>101</th>\n",
       "      <td>achtgesichterambiwasse/achtgesichterambiwasse_...</td>\n",
       "      <td>und hanake wusste als guterzogene japanerin da...</td>\n",
       "      <td>und hanake wusste als gut erzogene japanerin ...</td>\n",
       "      <td>0.166667</td>\n",
       "    </tr>\n",
       "    <tr>\n",
       "      <th>4766</th>\n",
       "      <td>meisterfloh/meisterfloh_2139.wav</td>\n",
       "      <td>nicht genug dass der taugenichts ueberall wo e...</td>\n",
       "      <td>nicht genug dass der tauge nichts ueberall wo...</td>\n",
       "      <td>0.117647</td>\n",
       "    </tr>\n",
       "    <tr>\n",
       "      <th>2018</th>\n",
       "      <td>achtgesichterambiwasse/achtgesichterambiwasse_...</td>\n",
       "      <td>entdeckte sie ploetzlich einen mann der ihrem ...</td>\n",
       "      <td>entdeckte sie ploetzlich einen mann der ihrem...</td>\n",
       "      <td>0.000000</td>\n",
       "    </tr>\n",
       "    <tr>\n",
       "      <th>...</th>\n",
       "      <td>...</td>\n",
       "      <td>...</td>\n",
       "      <td>...</td>\n",
       "      <td>...</td>\n",
       "    </tr>\n",
       "    <tr>\n",
       "      <th>3524</th>\n",
       "      <td>meisterfloh/meisterfloh_0897.wav</td>\n",
       "      <td>fuehrt weil er in allen dingen des lebens zur ...</td>\n",
       "      <td>fuehrt weil er in allen dingen des lebens zur...</td>\n",
       "      <td>0.000000</td>\n",
       "    </tr>\n",
       "    <tr>\n",
       "      <th>6971</th>\n",
       "      <td>serapionsbruederauswahl/serapionsbruederauswah...</td>\n",
       "      <td>dieses juenglings glueckliche braut vor funfzi...</td>\n",
       "      <td>dieses juenglings glueckliche braut vor fuenf...</td>\n",
       "      <td>0.142857</td>\n",
       "    </tr>\n",
       "    <tr>\n",
       "      <th>3080</th>\n",
       "      <td>meisterfloh/meisterfloh_0453.wav</td>\n",
       "      <td>es befand sich zu der zeit ein mann in frankfu...</td>\n",
       "      <td>es befand sich zu der zeit ein mann in frankf...</td>\n",
       "      <td>0.250000</td>\n",
       "    </tr>\n",
       "    <tr>\n",
       "      <th>3187</th>\n",
       "      <td>meisterfloh/meisterfloh_0560.wav</td>\n",
       "      <td>und fiel bald in tiefen schlaf gerade der fein...</td>\n",
       "      <td>und fiel bald in tiefen schlaf gerade der fei...</td>\n",
       "      <td>0.000000</td>\n",
       "    </tr>\n",
       "    <tr>\n",
       "      <th>655</th>\n",
       "      <td>achtgesichterambiwasse/achtgesichterambiwasse_...</td>\n",
       "      <td>das maedchen war leise aufgestanden und hatte ...</td>\n",
       "      <td>das maedchen war leise aufgestanden und hatte...</td>\n",
       "      <td>0.047619</td>\n",
       "    </tr>\n",
       "  </tbody>\n",
       "</table>\n",
       "<p>1857 rows × 4 columns</p>\n",
       "</div>"
      ],
      "text/plain": [
       "                                                   file  \\\n",
       "625   achtgesichterambiwasse/achtgesichterambiwasse_...   \n",
       "2796                   meisterfloh/meisterfloh_0169.wav   \n",
       "101   achtgesichterambiwasse/achtgesichterambiwasse_...   \n",
       "4766                   meisterfloh/meisterfloh_2139.wav   \n",
       "2018  achtgesichterambiwasse/achtgesichterambiwasse_...   \n",
       "...                                                 ...   \n",
       "3524                   meisterfloh/meisterfloh_0897.wav   \n",
       "6971  serapionsbruederauswahl/serapionsbruederauswah...   \n",
       "3080                   meisterfloh/meisterfloh_0453.wav   \n",
       "3187                   meisterfloh/meisterfloh_0560.wav   \n",
       "655   achtgesichterambiwasse/achtgesichterambiwasse_...   \n",
       "\n",
       "                                                orgText  \\\n",
       "625   koennt ihr durch einen zufall drueben in karas...   \n",
       "2796  peregrinus wollte von der wirklichen welt nich...   \n",
       "101   und hanake wusste als guterzogene japanerin da...   \n",
       "4766  nicht genug dass der taugenichts ueberall wo e...   \n",
       "2018  entdeckte sie ploetzlich einen mann der ihrem ...   \n",
       "...                                                 ...   \n",
       "3524  fuehrt weil er in allen dingen des lebens zur ...   \n",
       "6971  dieses juenglings glueckliche braut vor funfzi...   \n",
       "3080  es befand sich zu der zeit ein mann in frankfu...   \n",
       "3187  und fiel bald in tiefen schlaf gerade der fein...   \n",
       "655   das maedchen war leise aufgestanden und hatte ...   \n",
       "\n",
       "                                 rir_medium_whisperxOut  \\\n",
       "625    koennt ihr durch einen zufall drueben in kara...   \n",
       "2796   peragrinus wollte von der wirklichen welt nic...   \n",
       "101    und hanake wusste als gut erzogene japanerin ...   \n",
       "4766   nicht genug dass der tauge nichts ueberall wo...   \n",
       "2018   entdeckte sie ploetzlich einen mann der ihrem...   \n",
       "...                                                 ...   \n",
       "3524   fuehrt weil er in allen dingen des lebens zur...   \n",
       "6971   dieses juenglings glueckliche braut vor fuenf...   \n",
       "3080   es befand sich zu der zeit ein mann in frankf...   \n",
       "3187   und fiel bald in tiefen schlaf gerade der fei...   \n",
       "655    das maedchen war leise aufgestanden und hatte...   \n",
       "\n",
       "      medium_whisperxOut_wer  \n",
       "625                 0.000000  \n",
       "2796                0.100000  \n",
       "101                 0.166667  \n",
       "4766                0.117647  \n",
       "2018                0.000000  \n",
       "...                      ...  \n",
       "3524                0.000000  \n",
       "6971                0.142857  \n",
       "3080                0.250000  \n",
       "3187                0.000000  \n",
       "655                 0.047619  \n",
       "\n",
       "[1857 rows x 4 columns]"
      ]
     },
     "execution_count": 27,
     "metadata": {},
     "output_type": "execute_result"
    }
   ],
   "source": [
    "test"
   ]
  },
  {
   "cell_type": "code",
   "execution_count": 7,
   "metadata": {},
   "outputs": [],
   "source": [
    "output = []\n",
    "# Open the HDF5 file\n",
    "with h5py.File('augmented_arrays.h5', 'r') as f:\n",
    "    # Iterate over the datasets in the file\n",
    "    for i, row in test.iterrows():\n",
    "        if row['file'] in f:\n",
    "            augmented = f[row['file']][rir_file]['augmented'][:]\n",
    "            results = model.transcribe(augmented, language='de')\n",
    "            for segment in results['segments']:\n",
    "                output.append(segment['text'])"
   ]
  },
  {
   "cell_type": "code",
   "execution_count": 8,
   "metadata": {},
   "outputs": [
    {
     "data": {
      "text/plain": [
       "[]"
      ]
     },
     "execution_count": 8,
     "metadata": {},
     "output_type": "execute_result"
    }
   ],
   "source": [
    "output"
   ]
  },
  {
   "cell_type": "code",
   "execution_count": 22,
   "metadata": {},
   "outputs": [],
   "source": [
    "test['medium_whisperxOut'] = output\n",
    "test['rir_file'] = rir_"
   ]
  },
  {
   "cell_type": "code",
   "execution_count": 23,
   "metadata": {},
   "outputs": [
    {
     "data": {
      "text/html": [
       "<div>\n",
       "<style scoped>\n",
       "    .dataframe tbody tr th:only-of-type {\n",
       "        vertical-align: middle;\n",
       "    }\n",
       "\n",
       "    .dataframe tbody tr th {\n",
       "        vertical-align: top;\n",
       "    }\n",
       "\n",
       "    .dataframe thead th {\n",
       "        text-align: right;\n",
       "    }\n",
       "</style>\n",
       "<table border=\"1\" class=\"dataframe\">\n",
       "  <thead>\n",
       "    <tr style=\"text-align: right;\">\n",
       "      <th></th>\n",
       "      <th>file</th>\n",
       "      <th>orgText</th>\n",
       "      <th>whisperxOut</th>\n",
       "      <th>WER</th>\n",
       "      <th>medium_whisperxOut</th>\n",
       "      <th>rir_file</th>\n",
       "    </tr>\n",
       "  </thead>\n",
       "  <tbody>\n",
       "    <tr>\n",
       "      <th>625</th>\n",
       "      <td>achtgesichterambiwasse/achtgesichterambiwasse_...</td>\n",
       "      <td>könnt ihr durch einen zufall drüben in karasak...</td>\n",
       "      <td>Könnt ihr durch einen Zufall drüben in Karasa...</td>\n",
       "      <td>NaN</td>\n",
       "      <td>Das Mädchen war leise aufgestanden und hatte ...</td>\n",
       "      <td>../audioData/Office_RIR/h110_Office_MeetingRoo...</td>\n",
       "    </tr>\n",
       "    <tr>\n",
       "      <th>2796</th>\n",
       "      <td>meisterfloh/meisterfloh_0169.wav</td>\n",
       "      <td>peregrinus wollte von der wirklichen welt nich...</td>\n",
       "      <td>Peregrinus wollte von der wirklichen Welt nic...</td>\n",
       "      <td>NaN</td>\n",
       "      <td>Das Mädchen war leise aufgestanden und hatte ...</td>\n",
       "      <td>NaN</td>\n",
       "    </tr>\n",
       "    <tr>\n",
       "      <th>101</th>\n",
       "      <td>achtgesichterambiwasse/achtgesichterambiwasse_...</td>\n",
       "      <td>und hanake wusste als guterzogene japanerin da...</td>\n",
       "      <td>und Hanake wußte als gut erzogene Japanerin, ...</td>\n",
       "      <td>NaN</td>\n",
       "      <td>Das Mädchen war leise aufgestanden und hatte ...</td>\n",
       "      <td>../audioData/Office_RIR/h173_Offixe_1txts.wav</td>\n",
       "    </tr>\n",
       "    <tr>\n",
       "      <th>4766</th>\n",
       "      <td>meisterfloh/meisterfloh_2139.wav</td>\n",
       "      <td>nicht genug dass der taugenichts überall wo er...</td>\n",
       "      <td>Nicht genug, dass der Taugenichts überall, wo...</td>\n",
       "      <td>NaN</td>\n",
       "      <td>Das Mädchen war leise aufgestanden und hatte ...</td>\n",
       "      <td>NaN</td>\n",
       "    </tr>\n",
       "    <tr>\n",
       "      <th>2018</th>\n",
       "      <td>achtgesichterambiwasse/achtgesichterambiwasse_...</td>\n",
       "      <td>entdeckte sie plötzlich einen mann der ihrem s...</td>\n",
       "      <td>Entdeckte sie plötzlich einen Mann, der ihrem...</td>\n",
       "      <td>NaN</td>\n",
       "      <td>Das Mädchen war leise aufgestanden und hatte ...</td>\n",
       "      <td>NaN</td>\n",
       "    </tr>\n",
       "  </tbody>\n",
       "</table>\n",
       "</div>"
      ],
      "text/plain": [
       "                                                   file  \\\n",
       "625   achtgesichterambiwasse/achtgesichterambiwasse_...   \n",
       "2796                   meisterfloh/meisterfloh_0169.wav   \n",
       "101   achtgesichterambiwasse/achtgesichterambiwasse_...   \n",
       "4766                   meisterfloh/meisterfloh_2139.wav   \n",
       "2018  achtgesichterambiwasse/achtgesichterambiwasse_...   \n",
       "\n",
       "                                                orgText  \\\n",
       "625   könnt ihr durch einen zufall drüben in karasak...   \n",
       "2796  peregrinus wollte von der wirklichen welt nich...   \n",
       "101   und hanake wusste als guterzogene japanerin da...   \n",
       "4766  nicht genug dass der taugenichts überall wo er...   \n",
       "2018  entdeckte sie plötzlich einen mann der ihrem s...   \n",
       "\n",
       "                                            whisperxOut  WER  \\\n",
       "625    Könnt ihr durch einen Zufall drüben in Karasa...  NaN   \n",
       "2796   Peregrinus wollte von der wirklichen Welt nic...  NaN   \n",
       "101    und Hanake wußte als gut erzogene Japanerin, ...  NaN   \n",
       "4766   Nicht genug, dass der Taugenichts überall, wo...  NaN   \n",
       "2018   Entdeckte sie plötzlich einen Mann, der ihrem...  NaN   \n",
       "\n",
       "                                     medium_whisperxOut  \\\n",
       "625    Das Mädchen war leise aufgestanden und hatte ...   \n",
       "2796   Das Mädchen war leise aufgestanden und hatte ...   \n",
       "101    Das Mädchen war leise aufgestanden und hatte ...   \n",
       "4766   Das Mädchen war leise aufgestanden und hatte ...   \n",
       "2018   Das Mädchen war leise aufgestanden und hatte ...   \n",
       "\n",
       "                                               rir_file  \n",
       "625   ../audioData/Office_RIR/h110_Office_MeetingRoo...  \n",
       "2796                                                NaN  \n",
       "101       ../audioData/Office_RIR/h173_Offixe_1txts.wav  \n",
       "4766                                                NaN  \n",
       "2018                                                NaN  "
      ]
     },
     "execution_count": 23,
     "metadata": {},
     "output_type": "execute_result"
    }
   ],
   "source": [
    "test.head(5)"
   ]
  },
  {
   "cell_type": "code",
   "execution_count": 36,
   "metadata": {},
   "outputs": [],
   "source": [
    "out = []\n",
    "#rir_files = []\n",
    "\n",
    "for i, row in test.iterrows():\n",
    "    aud_file = os.path.join(libri_dir, row['file'])\n",
    "    rir_file = rir_.iloc[i]\n",
    "\n",
    "    augmented = add_echo(aud_fname=aud_file, rir_fname=rir_file)\n",
    "    results = model.transcribe(augmented, language='de')\n",
    "\n",
    "    for segment in results['segments']:\n",
    "        out.append(segment['text'])"
   ]
  },
  {
   "cell_type": "code",
   "execution_count": 37,
   "metadata": {},
   "outputs": [],
   "source": [
    "test['rir_whisperxOut'] = out\n",
    "test['rir_file'] = rir_files\n"
   ]
  },
  {
   "cell_type": "code",
   "execution_count": 39,
   "metadata": {},
   "outputs": [],
   "source": [
    "test = test[['file', 'rir_file', 'orgText', 'whisperxOut', 'rir_whisperxOut', 'WER']]"
   ]
  },
  {
   "cell_type": "code",
   "execution_count": 40,
   "metadata": {},
   "outputs": [],
   "source": [
    "test.to_csv('LibriVox_Kaggle_officeRIR_whisperx.csv', index=False)"
   ]
  }
 ],
 "metadata": {
  "kernelspec": {
   "display_name": "_whisperx_",
   "language": "python",
   "name": "python3"
  },
  "language_info": {
   "codemirror_mode": {
    "name": "ipython",
    "version": 3
   },
   "file_extension": ".py",
   "mimetype": "text/x-python",
   "name": "python",
   "nbconvert_exporter": "python",
   "pygments_lexer": "ipython3",
   "version": "3.10.14"
  }
 },
 "nbformat": 4,
 "nbformat_minor": 2
}
