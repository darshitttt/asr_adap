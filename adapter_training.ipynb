{
 "cells": [
  {
   "cell_type": "code",
   "execution_count": 13,
   "metadata": {},
   "outputs": [],
   "source": [
    "import torch\n",
    "import torch.nn as nn\n",
    "import torch.optim as optim\n",
    "import faster_whisper\n",
    "import h5py\n",
    "import whisperx\n",
    "import numpy as np\n",
    "import pandas as pd\n",
    "import utils\n",
    "import basic_adapter_utils\n",
    "from sklearn.model_selection import train_test_split\n",
    "from torch.utils.data import DataLoader, TensorDataset"
   ]
  },
  {
   "cell_type": "code",
   "execution_count": 2,
   "metadata": {},
   "outputs": [],
   "source": [
    "adapter = basic_adapter_utils.LinearAdapter()\n",
    "embeddings_file = 'embeddings.h5'"
   ]
  },
  {
   "cell_type": "code",
   "execution_count": 7,
   "metadata": {},
   "outputs": [],
   "source": [
    "df = pd.read_csv('LibriVox_Kaggle_org.csv')\n",
    "train, test = train_test_split(df, random_state=42)"
   ]
  },
  {
   "cell_type": "code",
   "execution_count": 11,
   "metadata": {},
   "outputs": [],
   "source": [
    "device = \"cuda:1\"\n",
    "optimizer = optim.Adam(adapter.parameters(), lr=0.001)\n",
    "loss_fn = nn.MSELoss()"
   ]
  },
  {
   "cell_type": "code",
   "execution_count": 10,
   "metadata": {},
   "outputs": [],
   "source": [
    "# Set up data and model\n",
    "input_embeddings = []\n",
    "target_embeddings = []\n",
    "\n",
    "for f in [file for file in train['file']]:\n",
    "    inn, tar = utils.load_embeddings_and_rir_from_hdf5(embeddings_file, f)\n",
    "    input_embeddings.append(inn)\n",
    "    target_embeddings.append(tar)\n"
   ]
  },
  {
   "cell_type": "code",
   "execution_count": 14,
   "metadata": {},
   "outputs": [],
   "source": [
    "input_embeddings = torch.FloatTensor(np.array(input_embeddings))\n",
    "target_embeddings = torch.FloatTensor(np.array(target_embeddings))\n",
    "\n",
    "dataset = TensorDataset(input_embeddings, target_embeddings)\n",
    "dataloader = DataLoader(dataset, batch_size=16, shuffle=True)"
   ]
  },
  {
   "cell_type": "code",
   "execution_count": 16,
   "metadata": {},
   "outputs": [
    {
     "name": "stdout",
     "output_type": "stream",
     "text": [
      "Epoch [1/25], Average Loss: 0.0645\n",
      "Epoch [2/25], Average Loss: 0.0644\n",
      "Epoch [3/25], Average Loss: 0.0643\n",
      "Epoch [4/25], Average Loss: 0.0642\n",
      "Epoch [5/25], Average Loss: 0.0642\n",
      "Epoch [6/25], Average Loss: 0.0640\n",
      "Epoch [7/25], Average Loss: 0.0640\n",
      "Epoch [8/25], Average Loss: 0.0640\n",
      "Epoch [9/25], Average Loss: 0.0639\n",
      "Epoch [10/25], Average Loss: 0.0638\n",
      "Epoch [11/25], Average Loss: 0.0637\n",
      "Epoch [12/25], Average Loss: 0.0637\n",
      "Epoch [13/25], Average Loss: 0.0636\n",
      "Epoch [14/25], Average Loss: 0.0636\n",
      "Epoch [15/25], Average Loss: 0.0635\n",
      "Epoch [16/25], Average Loss: 0.0635\n",
      "Epoch [17/25], Average Loss: 0.0634\n",
      "Epoch [18/25], Average Loss: 0.0634\n",
      "Epoch [19/25], Average Loss: 0.0633\n",
      "Epoch [20/25], Average Loss: 0.0633\n",
      "Epoch [21/25], Average Loss: 0.0632\n",
      "Epoch [22/25], Average Loss: 0.0631\n",
      "Epoch [23/25], Average Loss: 0.0631\n",
      "Epoch [24/25], Average Loss: 0.0631\n",
      "Epoch [25/25], Average Loss: 0.0630\n"
     ]
    }
   ],
   "source": [
    "# Training loop\n",
    "num_epochs = 25\n",
    "device = torch.device(\"cuda\" if torch.cuda.is_available() else \"cpu\")\n",
    "adapter.to(device)\n",
    "\n",
    "for epoch in range(num_epochs):\n",
    "    adapter.train()\n",
    "    total_loss = 0\n",
    "    \n",
    "    for batch_input, batch_target in dataloader:\n",
    "        batch_input, batch_target = batch_input.to(device), batch_target.to(device)\n",
    "        \n",
    "        # Forward pass\n",
    "        outputs = adapter(batch_input)\n",
    "        loss = loss_fn(outputs, batch_target)\n",
    "        \n",
    "        # Backward pass and optimize\n",
    "        optimizer.zero_grad()\n",
    "        loss.backward()\n",
    "        optimizer.step()\n",
    "        \n",
    "        total_loss += loss.item()\n",
    "    \n",
    "    # Print average loss for the epoch\n",
    "    avg_loss = total_loss / len(dataloader)\n",
    "    print(f\"Epoch [{epoch+1}/{num_epochs}], Average Loss: {avg_loss:.4f}\")"
   ]
  },
  {
   "cell_type": "code",
   "execution_count": 17,
   "metadata": {},
   "outputs": [],
   "source": [
    "# Save the trained model\n",
    "torch.save(adapter.state_dict(), 'linear_adapter_50epochs.pth')"
   ]
  }
 ],
 "metadata": {
  "kernelspec": {
   "display_name": "_whisperx_",
   "language": "python",
   "name": "python3"
  },
  "language_info": {
   "codemirror_mode": {
    "name": "ipython",
    "version": 3
   },
   "file_extension": ".py",
   "mimetype": "text/x-python",
   "name": "python",
   "nbconvert_exporter": "python",
   "pygments_lexer": "ipython3",
   "version": "3.10.14"
  }
 },
 "nbformat": 4,
 "nbformat_minor": 2
}
